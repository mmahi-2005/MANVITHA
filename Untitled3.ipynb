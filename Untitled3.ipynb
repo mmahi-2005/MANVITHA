{
  "nbformat": 4,
  "nbformat_minor": 0,
  "metadata": {
    "colab": {
      "provenance": [],
      "authorship_tag": "ABX9TyP6adTCe9Fk7rR7q9tdeger",
      "include_colab_link": true
    },
    "kernelspec": {
      "name": "python3",
      "display_name": "Python 3"
    },
    "language_info": {
      "name": "python"
    }
  },
  "cells": [
    {
      "cell_type": "markdown",
      "metadata": {
        "id": "view-in-github",
        "colab_type": "text"
      },
      "source": [
        "<a href=\"https://colab.research.google.com/github/mmahi-2005/MANVITHA/blob/main/Untitled3.ipynb\" target=\"_parent\"><img src=\"https://colab.research.google.com/assets/colab-badge.svg\" alt=\"Open In Colab\"/></a>"
      ]
    },
    {
      "cell_type": "code",
      "execution_count": null,
      "metadata": {
        "id": "Ou2dVn60HYhA"
      },
      "outputs": [],
      "source": []
    },
    {
      "cell_type": "markdown",
      "source": [],
      "metadata": {
        "id": "s5W-hbGTj-lZ"
      }
    },
    {
      "cell_type": "markdown",
      "source": [
        "# //**WHAT IS OOPs**\n",
        "In Python, object-oriented Programming (OOPs) is a programming paradigm that uses objects and classes in programming. It aims to implement real-world entities like inheritance, polymorphisms, encapsulation, etc. in the programming.\n",
        "The main concept of OOPs is to bind the data and the functions that work on that together as a single unit so that no other part of the code can access this data.\n",
        "# //**OOPS Concept in python **\n",
        "Class\n",
        "Objects\n",
        "inheritance\n",
        "# //**What is a class**\n",
        "\n",
        "* A class is a collection of objects\n",
        "* It is a blueprint of the object\n",
        "* Classes are created by keyword class.\n",
        "* Attributes are the variables that belong to a class.\n",
        "* Attributes are always public and can be accessed using the dot (.) operator. Eg.: Myclass.Myattribute\n",
        "# // syntax\n",
        "class classname:\n",
        "# // what is a object\n",
        "The object is an entity that has a state and behavior associated with it. It may be any real-world object like a mouse, keyboard, chair, table, pen, etc. Integers, strings, floating-point numbers, even arrays, and dictionaries, are all objects.\n",
        "* More specifically, any single integer or any single string is an object. The number 12 is an object, the string “Hello, world” is an object, a list is an object that can hold other objects, and so on. You’ve been using objects all along and may not even realize it.\n",
        "\n",
        "\n",
        "\n",
        "class mahi:\n",
        "     def display(self):\n",
        "     a=20\n",
        "     b=30\n",
        "     print(a,b)\n",
        "obj mahi()\n",
        "obj.display()\n",
        "* self is used to access variables that belongs to the class\n",
        "\n"
      ],
      "metadata": {
        "id": "PKYTqCOLIHCj"
      }
    },
    {
      "cell_type": "markdown",
      "source": [
        "In Python, object-oriented Programming (OOPs) is a programming paradigm that uses objects and classes in programming. It aims to implement real-world entities like inheritance, polymorphisms, encapsulation, etc. in the programming. The main concept of OOPs is to bind the data and the functions that work on that together as a single unit so that no other part of the code can access this data."
      ],
      "metadata": {
        "id": "3y7r4TGEHaTI"
      }
    }
  ]
}