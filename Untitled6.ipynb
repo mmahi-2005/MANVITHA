{
  "nbformat": 4,
  "nbformat_minor": 0,
  "metadata": {
    "colab": {
      "provenance": [],
      "include_colab_link": true
    },
    "kernelspec": {
      "name": "python3",
      "display_name": "Python 3"
    },
    "language_info": {
      "name": "python"
    }
  },
  "cells": [
    {
      "cell_type": "markdown",
      "metadata": {
        "id": "view-in-github",
        "colab_type": "text"
      },
      "source": [
        "<a href=\"https://colab.research.google.com/github/mmahi-2005/MANVITHA/blob/main/Untitled6.ipynb\" target=\"_parent\"><img src=\"https://colab.research.google.com/assets/colab-badge.svg\" alt=\"Open In Colab\"/></a>"
      ]
    },
    {
      "cell_type": "code",
      "execution_count": null,
      "metadata": {
        "id": "m0tNB6VtwiaU"
      },
      "outputs": [],
      "source": []
    },
    {
      "cell_type": "markdown",
      "source": [
        "DATA FRAME:\n",
        " DataFrame is a two-dimensional, size-mutable, and potentially heterogeneous tabular data structure with labeled axes (rows and columns) designed for data manipulation and analysis. In Python, the most commonly used library for working with DataFrames is pandas. Below, I'll provide an overview."
      ],
      "metadata": {
        "id": "M48QOghUxMwe"
      }
    },
    {
      "cell_type": "code",
      "source": [
        "import pandas as pd\n",
        "\n",
        "# Creating a DataFrame from a dictionary\n",
        "data = {\n",
        "    'Name': ['prabha', 'sravs', 'jaanu'],\n",
        "    'Age': [25, 30, 35],\n",
        "    'City': ['New York', 'San Francisco', 'Los Angeles']\n",
        "}\n",
        "\n",
        "df = pd.DataFrame(data)\n",
        "\n",
        "# Printing the DataFrame\n",
        "print(df)"
      ],
      "metadata": {
        "colab": {
          "base_uri": "https://localhost:8080/"
        },
        "id": "_huUqBWUxXJw",
        "outputId": "ed839016-e432-46ee-80c6-c26b7f88377a"
      },
      "execution_count": null,
      "outputs": [
        {
          "metadata": {
            "tags": null
          },
          "name": "stdout",
          "output_type": "stream",
          "text": [
            "     Name  Age           City\n",
            "0  prabha   25       New York\n",
            "1   sravs   30  San Francisco\n",
            "2   jaanu   35    Los Angeles\n"
          ]
        }
      ]
    },
    {
      "cell_type": "markdown",
      "source": [
        "ACCESSING ELEMENTS:\n",
        "In a data frame, you can access elements by specifying the row and column indices or labels. In Python's Pandas library, for example, you can use the .loc[] or .iloc[] access.\n",
        "\n",
        "With iloc, you use integer positions to access elements (0-based indexing), while with loc, you use row and column labels.\n",
        "You can also use slices and lists with iloc and loc to access multiple elements or rows/columns at once.\n",
        "Both iloc and loc can be used with Series in a similar way.\n",
        "\n",
        "loc (Integer Location):\n",
        "\n",
        "iloc is used to select elements by their integer position in the DataFrame or Series.\n",
        "Example:\n",
        "\n"
      ],
      "metadata": {
        "id": "g6mxkIk-x3aA"
      }
    },
    {
      "cell_type": "code",
      "source": [
        "import pandas as pd\n",
        "\n",
        "# Create a DataFrame\n",
        "data = {'A': [1, 2, 3], 'B': [4, 5, 6]}\n",
        "df = pd.DataFrame(data)\n",
        "\n",
        "# Access the element in the first row and first column (zero-based indexing)\n",
        "element = df.iloc[0, 0]\n",
        "print(element)"
      ],
      "metadata": {
        "colab": {
          "base_uri": "https://localhost:8080/"
        },
        "id": "_LBg7QIPzXD-",
        "outputId": "3d9952ba-011e-47e3-b9ca-a24c1a3c76c7"
      },
      "execution_count": null,
      "outputs": [
        {
          "output_type": "stream",
          "name": "stdout",
          "text": [
            "1\n"
          ]
        }
      ]
    },
    {
      "cell_type": "markdown",
      "source": [
        "loc (Label Location):\n",
        "\n",
        "loc is used to select elements by their row and column labels.\n",
        "Example:"
      ],
      "metadata": {
        "id": "4g3o66GmzcUX"
      }
    },
    {
      "cell_type": "code",
      "source": [
        "import pandas as pd\n",
        "\n",
        "# Create a DataFrame with custom row labels\n",
        "data = {'A': [1, 2, 3], 'B': [4, 5, 6]}\n",
        "df = pd.DataFrame(data, index=['row1', 'row2', 'row3'])\n",
        "\n",
        "# Access the element in the row labeled 'row1' and column labeled 'A'\n",
        "element = df.loc['row1', 'A']\n",
        "print(element)"
      ],
      "metadata": {
        "colab": {
          "base_uri": "https://localhost:8080/"
        },
        "id": "2YpFzD6szg1K",
        "outputId": "f0aa2268-91b6-47ee-ffb6-b9467dec81de"
      },
      "execution_count": null,
      "outputs": [
        {
          "output_type": "stream",
          "name": "stdout",
          "text": [
            "1\n"
          ]
        }
      ]
    },
    {
      "cell_type": "markdown",
      "source": [
        "MERGE:\n",
        "In Python, you can merge DataFrames in Pandas using various merge operations such as \"left\", \"right\", \"inner\", and \"outer\". These operations help combine data from multiple DataFrames based on common columns.\n",
        "\n",
        "1.inner\n",
        "\n",
        "2.outer\n",
        "\n",
        "3.right\n",
        "\n",
        "4.left"
      ],
      "metadata": {
        "id": "ig4O1_hjzxWD"
      }
    },
    {
      "cell_type": "markdown",
      "source": [
        "Inner Merge :\n",
        "\n",
        "An inner merge returns only the rows where the keys are common in both DataFrames"
      ],
      "metadata": {
        "id": "XKNW_U3s0FTA"
      }
    },
    {
      "cell_type": "code",
      "source": [
        "import pandas as pd\n",
        "\n",
        "df1 = pd.DataFrame({'key': ['A', 'B', 'C', 'D'],\n",
        "                    'value': [1, 2, 3, 4]})\n",
        "df2 = pd.DataFrame({'key': ['B', 'D', 'E', 'F'],\n",
        "                    'value': [5, 6, 7, 8]})\n",
        "\n",
        "merged_inner = pd.merge(df1, df2, on='key', how='inner')\n",
        "print(merged_inner)"
      ],
      "metadata": {
        "colab": {
          "base_uri": "https://localhost:8080/"
        },
        "id": "FjNSJbmC1Qe0",
        "outputId": "99ce2409-1ce3-4914-89ef-94980c5b3787"
      },
      "execution_count": null,
      "outputs": [
        {
          "output_type": "stream",
          "name": "stdout",
          "text": [
            "  key  value_x  value_y\n",
            "0   B        2        5\n",
            "1   D        4        6\n"
          ]
        }
      ]
    },
    {
      "cell_type": "markdown",
      "source": [
        "Outer Merge :\n",
        "\n",
        "An outer merge returns all rows when there is a match in either the left or right DataFrame."
      ],
      "metadata": {
        "id": "Kv8YpT2l1dM5"
      }
    },
    {
      "cell_type": "code",
      "source": [
        "merged_outer = pd.merge(df1, df2, on='key', how='outer')\n",
        "print(merged_outer)"
      ],
      "metadata": {
        "colab": {
          "base_uri": "https://localhost:8080/"
        },
        "id": "ozEzx7qk1fsW",
        "outputId": "0f01ac7d-1889-473f-b1ff-06bac2bdb727"
      },
      "execution_count": null,
      "outputs": [
        {
          "output_type": "stream",
          "name": "stdout",
          "text": [
            "  key  value_x  value_y\n",
            "0   A      1.0      NaN\n",
            "1   B      2.0      5.0\n",
            "2   C      3.0      NaN\n",
            "3   D      4.0      6.0\n",
            "4   E      NaN      7.0\n",
            "5   F      NaN      8.0\n"
          ]
        }
      ]
    },
    {
      "cell_type": "markdown",
      "source": [
        "Right Merge :\n",
        "\n",
        "A right merge returns all rows from the right DataFrame and the matched rows from the left DataFrame."
      ],
      "metadata": {
        "id": "TSVmzoui1mFQ"
      }
    },
    {
      "cell_type": "code",
      "source": [
        "merged_right = pd.merge(df1, df2, on='key', how='right')\n",
        "print(merged_right)"
      ],
      "metadata": {
        "colab": {
          "base_uri": "https://localhost:8080/"
        },
        "id": "sQlLZ4zZ1yM8",
        "outputId": "4ac0dfa5-658a-4ea4-89b4-ce267184166a"
      },
      "execution_count": null,
      "outputs": [
        {
          "output_type": "stream",
          "name": "stdout",
          "text": [
            "  key  value_x  value_y\n",
            "0   B      2.0        5\n",
            "1   D      4.0        6\n",
            "2   E      NaN        7\n",
            "3   F      NaN        8\n"
          ]
        }
      ]
    },
    {
      "cell_type": "markdown",
      "source": [
        "Left Merge (how='left'):\n",
        "\n",
        "A left merge returns all rows from the left DataFrame and the matched rows from the right DataFrame."
      ],
      "metadata": {
        "id": "TqHFAm_Q2JnI"
      }
    },
    {
      "cell_type": "code",
      "source": [
        "merged_left = pd.merge(df1, df2, on='key', how='left')\n",
        "print(merged_left)"
      ],
      "metadata": {
        "colab": {
          "base_uri": "https://localhost:8080/"
        },
        "id": "1XH-dGDR2PI_",
        "outputId": "4775aefb-b562-4f1d-9ca1-5d8dad13a7d6"
      },
      "execution_count": null,
      "outputs": [
        {
          "output_type": "stream",
          "name": "stdout",
          "text": [
            "  key  value_x  value_y\n",
            "0   A        1      NaN\n",
            "1   B        2      5.0\n",
            "2   C        3      NaN\n",
            "3   D        4      6.0\n"
          ]
        }
      ]
    },
    {
      "cell_type": "markdown",
      "source": [
        "MISSING VALUES:\n",
        "1.Is null/Not null\n",
        "\n",
        "2.fillna\n",
        "\n",
        "3.dropna\n",
        "\n",
        "4.groupby\n",
        "\n",
        "1.Isnull / Not null:\n",
        "These are conditions used to check whether a particular value in a dataset is missing (null) or not. For example, you can use \"column_name IS NULL\" to identify rows where the value in \"column_name\" is missing."
      ],
      "metadata": {
        "id": "oOpfgHUI28qn"
      }
    },
    {
      "cell_type": "code",
      "source": [
        "import pandas as pd\n",
        "import numpy as np\n",
        "\n",
        "data = {'A': [1, 2, np.nan, 4],\n",
        "        'B': [np.nan, 2, 3, 4]}\n",
        "df = pd.DataFrame(data)\n",
        "\n",
        "print(df.isnull())\n",
        "print(df.notnull())"
      ],
      "metadata": {
        "colab": {
          "base_uri": "https://localhost:8080/"
        },
        "id": "4JhILlal5Ho4",
        "outputId": "536bc585-4f90-41ee-a11c-a5a4b31a59dc"
      },
      "execution_count": null,
      "outputs": [
        {
          "output_type": "stream",
          "name": "stdout",
          "text": [
            "       A      B\n",
            "0  False   True\n",
            "1  False  False\n",
            "2   True  False\n",
            "3  False  False\n",
            "       A      B\n",
            "0   True  False\n",
            "1   True   True\n",
            "2  False   True\n",
            "3   True   True\n"
          ]
        }
      ]
    },
    {
      "cell_type": "markdown",
      "source": [
        "2.fillna:\n",
        "This is a method used to fill in missing values in a dataset with a specified value. For example, you can use \"df['column_name'].fillna(value)\" to replace missing values in the 'column_name' column with the given value.\n"
      ],
      "metadata": {
        "id": "oR__DKmh5Y5p"
      }
    },
    {
      "cell_type": "code",
      "source": [
        "filled_df = df.fillna(0)\n",
        "mean_filled_df = df.fillna(df.mean())\n",
        "\n",
        "print(filled_df)\n",
        "print(mean_filled_df)"
      ],
      "metadata": {
        "colab": {
          "base_uri": "https://localhost:8080/"
        },
        "id": "mapIdZ4h5uLf",
        "outputId": "11f915db-e493-4849-977d-d6d757293578"
      },
      "execution_count": null,
      "outputs": [
        {
          "output_type": "stream",
          "name": "stdout",
          "text": [
            "     A    B\n",
            "0  1.0  0.0\n",
            "1  2.0  2.0\n",
            "2  0.0  3.0\n",
            "3  4.0  4.0\n",
            "          A    B\n",
            "0  1.000000  3.0\n",
            "1  2.000000  2.0\n",
            "2  2.333333  3.0\n",
            "3  4.000000  4.0\n"
          ]
        }
      ]
    },
    {
      "cell_type": "markdown",
      "source": [
        "groupby(): You can use the groupby method in combination with aggregation functions to summarize data while handling missing values within groups.\n",
        "Example:"
      ],
      "metadata": {
        "id": "dKvGwp6o6bVM"
      }
    },
    {
      "cell_type": "code",
      "source": [
        "data = {'Category': ['A', 'B', 'A', 'B', 'A'],\n",
        "        'Value': [1, np.nan, 3, 4, np.nan]}\n",
        "df = pd.DataFrame(data)\n",
        "\n",
        "# Calculate the mean of 'Value' within each 'Category', handling missing values\n",
        "result = df.groupby('Category')['Value'].mean()\n",
        "\n",
        "print(result)"
      ],
      "metadata": {
        "colab": {
          "base_uri": "https://localhost:8080/"
        },
        "id": "1S8HkDyS6f7y",
        "outputId": "20ee7bc8-ef0c-47da-a05b-5e1ef02a0973"
      },
      "execution_count": null,
      "outputs": [
        {
          "output_type": "stream",
          "name": "stdout",
          "text": [
            "Category\n",
            "A    2.0\n",
            "B    4.0\n",
            "Name: Value, dtype: float64\n"
          ]
        }
      ]
    },
    {
      "cell_type": "markdown",
      "source": [
        "Dropping Missing Values (dropna):\n",
        "\n",
        "To remove rows with missing values, you can use the dropna() method."
      ],
      "metadata": {
        "id": "dGdNenvd7AhD"
      }
    },
    {
      "cell_type": "code",
      "source": [
        "import pandas as pd\n",
        "\n",
        "# Create a DataFrame with missing values\n",
        "data = {'A': [1, 2, None, 4],\n",
        "        'B': [5, None, 7, 8]}\n",
        "df = pd.DataFrame(data)\n",
        "\n",
        "# Drop rows with at least 2 missing values\n",
        "df.dropna(thresh=2, inplace=True)\n",
        "\n",
        "print(df)"
      ],
      "metadata": {
        "colab": {
          "base_uri": "https://localhost:8080/"
        },
        "id": "ZSg2rbgS7iBY",
        "outputId": "7119d95d-144e-4be3-eab4-a6933df54f95"
      },
      "execution_count": null,
      "outputs": [
        {
          "output_type": "stream",
          "name": "stdout",
          "text": [
            "     A    B\n",
            "0  1.0  5.0\n",
            "3  4.0  8.0\n"
          ]
        }
      ]
    }
  ]
}